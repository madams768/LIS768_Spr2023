{
 "cells": [
  {
   "cell_type": "markdown",
   "metadata": {},
   "source": [
    "# Lab 3: Without further ado, Python"
   ]
  },
  {
   "cell_type": "markdown",
   "metadata": {},
   "source": [
    "In this lab, we will introduce some fundamental concepts in coding with Python. The examples are entirely silly and have very little to do with DH (yet). But, I promise we will practice with applications soon enough. For now, I hope you can relax and have a little fun!"
   ]
  },
  {
   "cell_type": "markdown",
   "metadata": {},
   "source": [
    "## Part 1: Working with data\n",
    "###  🔸 Variables\n",
    "Remember this code from last week?\n",
    "\n",
    "     statement = \"Megan is a morning person.\"\n",
    "     print(statement)\n",
    "\n",
    "In it, we stored a sentence (or `string`, more on that below) in a variable we called \"statement\". After we \"uncommented\" this line, it *updated* our variable and added a caveat!\n",
    "\n",
    "     statement += \"..when she has to be.\"\n",
    "\n",
    "⭐ **Let's try running it again:**"
   ]
  },
  {
   "cell_type": "code",
   "execution_count": null,
   "metadata": {},
   "outputs": [],
   "source": [
    "statement = \"Megan is a morning person.\""
   ]
  },
  {
   "cell_type": "markdown",
   "metadata": {},
   "source": [
    "What do you think the variable `statement` is equal to?"
   ]
  },
  {
   "cell_type": "code",
   "execution_count": null,
   "metadata": {},
   "outputs": [],
   "source": [
    "print(statement)"
   ]
  },
  {
   "cell_type": "code",
   "execution_count": null,
   "metadata": {},
   "outputs": [],
   "source": [
    "statement += \"..when she has to be.\""
   ]
  },
  {
   "cell_type": "markdown",
   "metadata": {},
   "source": [
    "What do you think the variable \"statement\" is set to now?"
   ]
  },
  {
   "cell_type": "code",
   "execution_count": null,
   "metadata": {},
   "outputs": [],
   "source": [
    "print(statement)"
   ]
  },
  {
   "cell_type": "markdown",
   "metadata": {},
   "source": [
    "Was the value of the `statement` variable what you expected it to be? In this section, we'll talk about the role of variables, the types of data you can store in variables, and the actions you can perform using variables."
   ]
  },
  {
   "cell_type": "markdown",
   "metadata": {},
   "source": [
    "### 🔸 Data types\n",
    "Python allows a range of data types, each with their own affordances. In this lab, we will practice with some of the most commonly used data types in DH work.\n",
    "\n",
    "#### Selected data types\n",
    "| Data type     | What it means | Abbreviation | Example |\n",
    "| :--- | :--- | :--- | :--- |\n",
    "| string   | a data type that stores text| str | I'm a string! |\n",
    "|integer | a numeric data type for whole numbers | int | 6 |\n",
    "| float | a numeric data type for numbers with decimal  values | float | 6.44 |\n",
    "|list | a sequence data type that stores multiple values | list | ['hyrax','auroch','axolotl','quagga','wombat','kraken'] |\n",
    "| dictionary | a key-value pairing data type that stores multiple values | dict | {'name':'hyrax','diet':'herbivorous','biologicalClass':'mammal'} |\n",
    "\n",
    "#### Checking data type\n",
    "Let's practice with a pre-built function that allows us to ask the computer what type of data we're working with: `type()`. Here, we'll combine it with `print()` so that it appears on the screen."
   ]
  },
  {
   "cell_type": "code",
   "execution_count": null,
   "metadata": {},
   "outputs": [],
   "source": [
    "print(type(\"Nine\"))"
   ]
  },
  {
   "cell_type": "code",
   "execution_count": null,
   "metadata": {},
   "outputs": [],
   "source": [
    "print(type(9))"
   ]
  },
  {
   "cell_type": "code",
   "execution_count": null,
   "metadata": {},
   "outputs": [],
   "source": [
    "print(type(9.99))"
   ]
  },
  {
   "cell_type": "markdown",
   "metadata": {},
   "source": [
    "Now, let's look at a couple more complex data types.\n",
    "\n",
    "#### Lists\n",
    "A `list` is a data type that allows you to store multiple values in one variable. Lists are ordered and changeable. They allow duplicates values, too!"
   ]
  },
  {
   "cell_type": "code",
   "execution_count": null,
   "metadata": {},
   "outputs": [],
   "source": [
    "anonymousAnimals = ['hyrax','auroch','axolotl','quagga','wombat','kraken']\n",
    "print(anonymousAnimals)"
   ]
  },
  {
   "cell_type": "markdown",
   "metadata": {},
   "source": [
    "You can access or **call** items from a list using their position, or **index**. The example below will create a numbered list using the index, followed by the value. It also uses a `for` loop, something we'll cover in the next module."
   ]
  },
  {
   "cell_type": "code",
   "execution_count": null,
   "metadata": {},
   "outputs": [],
   "source": [
    "for animal in anonymousAnimals:\n",
    "    print(anonymousAnimals.index(animal),animal)"
   ]
  },
  {
   "cell_type": "markdown",
   "metadata": {},
   "source": [
    " ##### Wait, what's going on with the index for \"hyrax\"? \n",
    "🤔 Indexes start at 0! So, to call the first item in a list, you'll need to remember that it's in the 0 position in the list. Weird, but true. Let's call up that hyrax:"
   ]
  },
  {
   "cell_type": "code",
   "execution_count": null,
   "metadata": {},
   "outputs": [],
   "source": [
    "print(anonymousAnimals[0])"
   ]
  },
  {
   "cell_type": "markdown",
   "metadata": {},
   "source": [
    "Since lists are changeable, let's add a badger. 🦡 We're at UW, afterall.)"
   ]
  },
  {
   "cell_type": "code",
   "execution_count": null,
   "metadata": {},
   "outputs": [],
   "source": [
    "anonymousAnimals.append('badger')\n",
    "for animal in anonymousAnimals:\n",
    "    print(anonymousAnimals.index(animal),animal)"
   ]
  },
  {
   "cell_type": "markdown",
   "metadata": {},
   "source": [
    "#### Dictionaries\n",
    "Like `lists`, dictionaries can also be used to store multiple values, they are ordered, and you can change items in the list. But, you can't duplicate values.\n",
    "\n",
    "##### A simple dictionary\n",
    "A simple dictionary stores a set of key-value pairs: the key describes the data. The value is the data. Let's make a simple dictionary of data about a hyrax."
   ]
  },
  {
   "cell_type": "code",
   "execution_count": null,
   "metadata": {},
   "outputs": [],
   "source": [
    "anonymousAnimalData = {'name':'hyrax','diet':'herbivorous','biologicalClass':'mammal'}\n",
    "print(anonymousAnimalData)"
   ]
  },
  {
   "cell_type": "markdown",
   "metadata": {},
   "source": [
    "From this dictionary, we can write a sentence about our hyrax friend!"
   ]
  },
  {
   "cell_type": "code",
   "execution_count": null,
   "metadata": {},
   "outputs": [],
   "source": [
    "print('The'+ ' '+ anonymousAnimalData['name'] + ' is an' + ' ' + anonymousAnimalData['diet']+ ' ' + anonymousAnimalData['biologicalClass'])"
   ]
  },
  {
   "cell_type": "markdown",
   "metadata": {},
   "source": [
    "##### A nested dictionary\n",
    "A nested dictionary is a bit more complicated to write, but allows us to describe multiple animals in one variable."
   ]
  },
  {
   "cell_type": "code",
   "execution_count": null,
   "metadata": {},
   "outputs": [],
   "source": [
    "anonymousAnimalData = {'animal1':{'name':'hyrax','diet':'herbivorous','biologicalClass':'mammal'},'animal2':{'name':'kraken','diet':'carnivorous','biologicalClass':'mythical beast'}}\n",
    "for animal in anonymousAnimalData.values():\n",
    "    print(('The'+ ' '+ animal['name'] + ' is a(n)' + ' ' + animal['diet']+ ' ' + animal['biologicalClass']))"
   ]
  },
  {
   "cell_type": "markdown",
   "metadata": {},
   "source": [
    "I only wrote out 2 examples above, but since dictionaries are changeable, we can add a critter. \n",
    "\n",
    "Edit the code cell below to add data about an animal of your choice. (Hint, add `values` inside the empty ' ' s below.)."
   ]
  },
  {
   "cell_type": "code",
   "execution_count": null,
   "metadata": {},
   "outputs": [],
   "source": [
    "anonymousAnimalData.update({'animal3':{'name':'','diet':'','biologicalClass':''}})\n",
    "print(anonymousAnimalData)"
   ]
  },
  {
   "cell_type": "code",
   "execution_count": null,
   "metadata": {},
   "outputs": [],
   "source": [
    "for animal in anonymousAnimalData.values():\n",
    "    print(('The'+ ' '+ animal['name'] + ' is a(n)' + ' ' + animal['diet']+ ' ' + animal['biologicalClass']))"
   ]
  },
  {
   "cell_type": "markdown",
   "metadata": {},
   "source": [
    "#### Changing data types\n",
    "We can also change data types. This is important because:\n",
    "1. each data type has unique affordances and restrictions. \n",
    "2. we don't always control the way the data we want to work with is represented.\n",
    "3. there are occasions when you'll want to take advantage of affordances from different data types (e.g., you want to add values (you'll need an `integer` or a `float` for that) AND you want to print the result out as part of a sentence (you'll need a `string` for that).\n",
    "\n",
    "Let's demonstrate this with our list of anonymous animals. Let's say we want to know how many animals are on our list. We can use `len()` to find out."
   ]
  },
  {
   "cell_type": "code",
   "execution_count": null,
   "metadata": {},
   "outputs": [],
   "source": [
    "print(len(anonymousAnimals))"
   ]
  },
  {
   "cell_type": "markdown",
   "metadata": {},
   "source": [
    "So, we have 7 animals. Let's say we want to print a sentence that tells us how many animals there are on our list and what those animals are. \n",
    "\n",
    "We can't combine `strings` and other data types, but we can change the data types of those other values to match. In the example below, we'll make `strings` out of the `integer` (the length of our list is 7, an integer) and `list` data (the all the animals in anonymousAnimals)."
   ]
  },
  {
   "cell_type": "code",
   "execution_count": null,
   "metadata": {},
   "outputs": [],
   "source": [
    "print(\"There are \" + (str(len(anonymousAnimals))) + \" on our list.\")\n",
    "print(\"Here's our list: \" + str(anonymousAnimals))"
   ]
  },
  {
   "cell_type": "markdown",
   "metadata": {},
   "source": [
    "### 🔸 Working with values (data): Booleans and operators\n",
    "#### Selected operators\n",
    "##### Arithmetic operators (use these to do math!)\n",
    "| Operator     | What it means | Example |\n",
    "| ---- | ---- |---- |\n",
    "| + | Add or concatenate | 2 + 2 |\n",
    "| - | Subtract | 2 - 2 |\n",
    "| * | Multiply | 2 * 2 |\n",
    "| / | Divide | 2 / 2\n",
    "\n",
    "##### Assignment variables (use these to set or assign variables)\n",
    "| Operator     | What it means | Example |\n",
    "| ---- | ---- | ---- |\n",
    "| = | Set equal to | x = 2 |\n",
    "| += | Add or concatenate two values, then assign the result to the variable | x += 2 |\n",
    "\n",
    "Note, you can use other arithmetic operators in combination with = to perform similar operations.\n",
    "\n",
    "##### Comparison operators\n",
    "| Operator     | What it means | Example |\n",
    "| ---- | ---- | ---- |\n",
    "| ==   | Is equal to| x == 2 |\n",
    "| !=   | Is not equal to| x != 2 |\n",
    "| < | Less than | x < 2 |\n",
    "| > | Greater than | x > 2 |\n",
    "| <= | Less than or equal to | x <= 2 |\n",
    "| => | Greater than or equal to | x >= 2 |\n",
    "\n",
    "##### Logical operators\n",
    "| Operator     | What it means | Example |\n",
    "| ---- | ---- | ---- |\n",
    "| and | returns True if both statements are true | x and y |\n",
    "| or | returns True if one of the statements is true | x or y |\n",
    "| not | reverse the result, returns False if the result is true | not x == 2 |\n",
    "\n",
    "\n",
    "#### Try a few operators below!"
   ]
  },
  {
   "cell_type": "code",
   "execution_count": null,
   "metadata": {},
   "outputs": [],
   "source": [
    "1 + 3"
   ]
  },
  {
   "cell_type": "code",
   "execution_count": null,
   "metadata": {},
   "outputs": [],
   "source": [
    "1.5 + .25"
   ]
  },
  {
   "cell_type": "markdown",
   "metadata": {},
   "source": [
    "##### Concaten..what? (Concatenation)"
   ]
  },
  {
   "cell_type": "code",
   "execution_count": null,
   "metadata": {},
   "outputs": [],
   "source": [
    "'bacon' + 'eggs'"
   ]
  },
  {
   "cell_type": "markdown",
   "metadata": {},
   "source": [
    "##### A single equals assigns a value to a variable."
   ]
  },
  {
   "cell_type": "code",
   "execution_count": null,
   "metadata": {},
   "outputs": [],
   "source": [
    "favoriteFood = 'kale'\n",
    "print(favoriteFood)"
   ]
  },
  {
   "cell_type": "markdown",
   "metadata": {},
   "source": [
    "##### Two equals signs together evaluate whether two things are equivalent and return a Boolean value."
   ]
  },
  {
   "cell_type": "code",
   "execution_count": null,
   "metadata": {},
   "outputs": [],
   "source": [
    "'taco' == 'burrito'"
   ]
  },
  {
   "cell_type": "markdown",
   "metadata": {},
   "source": [
    "🌮 ≠ 🌯\n",
    "Clearly. Tacos and burritos are not the same thing.\n",
    "Fortunately, we have an operator for that too!"
   ]
  },
  {
   "cell_type": "code",
   "execution_count": null,
   "metadata": {},
   "outputs": [],
   "source": [
    "'taco' != 'burrito'"
   ]
  },
  {
   "cell_type": "markdown",
   "metadata": {},
   "source": [
    "Now that we've sorted out that very important fact, we'll come back to operators a bit later on in this Lab."
   ]
  },
  {
   "cell_type": "markdown",
   "metadata": {},
   "source": [
    "### 🔸 Functions\n",
    "Functions are **reusable** chunks of code. \n",
    "What happens when you run the next two cells?"
   ]
  },
  {
   "cell_type": "code",
   "execution_count": null,
   "metadata": {},
   "outputs": [],
   "source": [
    "def niceFunction():\n",
    "    name = input(\"What's your name?\")\n",
    "    print(\"Hi, \" + name + \"! I'm a new function.\")"
   ]
  },
  {
   "cell_type": "code",
   "execution_count": null,
   "metadata": {},
   "outputs": [],
   "source": [
    "niceFunction()"
   ]
  },
  {
   "cell_type": "markdown",
   "metadata": {},
   "source": [
    "In the first cell above, we **defined** a function. In the next cell, we **called it**. Now that we've defined it, we can call it as many times as we'd like in this notebook. Try it again, just for fun."
   ]
  },
  {
   "cell_type": "code",
   "execution_count": null,
   "metadata": {},
   "outputs": [],
   "source": [
    "niceFunction()"
   ]
  },
  {
   "cell_type": "markdown",
   "metadata": {},
   "source": [
    "#### A slightly more involved function\n",
    "That function was pretty simple and really wouldn't take that much to write it out over and over again. Let's try one that's a little more involved."
   ]
  },
  {
   "cell_type": "code",
   "execution_count": null,
   "metadata": {},
   "outputs": [],
   "source": [
    "from time import sleep\n",
    "\n",
    "def greeting():\n",
    "    name = input(\"What's your name? Type it here and hit 'enter'. \")\n",
    "    print(\"Hello, \" + name + \"!\")\n",
    "    goodReactions = [\"great\",\"good\",\"amazing\",\"fantastic\"]\n",
    "    badReactions = [\"bad\",\"terrible\",\"confusing\",\"exhausting\",\"frustrating\",\"meh\"]\n",
    "    howDo = input(\"How's your morning going? \")\n",
    "    howDo = howDo.lower()\n",
    "    if howDo in goodReactions:\n",
    "        print(\"Happy to hear it!\")\n",
    "    elif howDo in badReactions:\n",
    "        print(\"Oh no! I hope it gets better!\")\n",
    "    else:\n",
    "        howDo = howDo.split()\n",
    "        responseLength = len(howDo)\n",
    "        if responseLength == 1:\n",
    "            print(\"...\")\n",
    "            sleep(2)\n",
    "            print(\"...\")\n",
    "            print(\"Sorry, I don't know what that means. Blame Megan.\")\n",
    "        if responseLength > 1:\n",
    "            responseTwo = input(\"Sorry, I'm used to terse people. Try again with a one-word response?\")\n",
    "            responseTwo = responseTwo.lower()\n",
    "            if responseTwo in goodReactions:\n",
    "                print(\"Oh! Good to hear it!\")\n",
    "            elif responseTwo in badReactions:\n",
    "                print(\"Oh no! I hope it gets better!\")\n",
    "            else:\n",
    "                print(\"...\")\n",
    "                sleep(2)\n",
    "                print(\"...\")\n",
    "                print(\"Sorry, I still don't know what that means. Blame Megan.\")\n",
    "\n",
    "greeting()"
   ]
  },
  {
   "cell_type": "markdown",
   "metadata": {},
   "source": [
    "Compare your conversation with the `greeting()` function to your neighbor's. Were your experiences similar?"
   ]
  },
  {
   "cell_type": "markdown",
   "metadata": {},
   "source": [
    "## Part 2: Flow control\n",
    "Flow control is an essential part of programming in any language, and Python is no exception. We could write a whole bunch of instructions and tell the computer to run them in order the same way every time, no exceptions. But, our programs are much more powerful if we build in logic that allows the computer to respond to particular conditions. "
   ]
  },
  {
   "cell_type": "markdown",
   "metadata": {},
   "source": [
    "### 🔸 A more abstract example:"
   ]
  },
  {
   "cell_type": "code",
   "execution_count": null,
   "metadata": {},
   "outputs": [],
   "source": [
    "a = 1\n",
    "b = 2\n",
    "\n",
    "if a > b:\n",
    "    print(str(a) + \" is greater than \" + str(b))\n",
    "elif a < b:\n",
    "    print(str(b) + \" is greater than \" + str(a))\n",
    "else:\n",
    "    print(str(a) + \"and \" + str(b) + \"are equal!\")"
   ]
  },
  {
   "cell_type": "markdown",
   "metadata": {},
   "source": [
    "##### A real-life example\n",
    "\n",
    "Your reading from *Automate the Boring Stuff* included a flow chart, illustrating the series of decisions or actions needed each morning when a hypothetical person decides whether or not to take an umbrella to work.\n",
    "![flowchart](http://automatetheboringstuff.com/2e/images/000039.jpg)\n",
    "\n",
    "**⭐ Run the cell below to interact with a script that loosely represents this flow chart**"
   ]
  },
  {
   "cell_type": "code",
   "execution_count": null,
   "metadata": {},
   "outputs": [],
   "source": [
    "from time import sleep\n",
    "\n",
    "def needUmbrella():\n",
    "    currentConditions = input(\"Is it raining? Respond with a lowercase yes or no.\")\n",
    "    decision1 = \"Go outside!\"\n",
    "    decision2 = \"Wait a while...\"\n",
    "    decision3 = \"Give up. Find the couch.\"\n",
    "    if currentConditions == \"yes\":\n",
    "        umbrellaStatus = input(\"Do you have an umbrella?\")\n",
    "        if umbrellaStatus == \"yes\":\n",
    "            print(decision1)\n",
    "        elif umbrellaStatus == \"no\":         \n",
    "            print(decision2)\n",
    "            sleep(2)\n",
    "            updatedConditions = input(\"Is it still raining? Respond with a lowercase yes or no.\")\n",
    "            if updatedConditions == \"yes\":\n",
    "                print(decision3)\n",
    "            elif updatedConditions == \"no\":\n",
    "                print(decision1)\n",
    "            else:\n",
    "                updatedConditions = input(\"I need a yes or no. Is it raining?\")\n",
    "                if updatedConditions == \"yes\":\n",
    "                    print(decision3)\n",
    "                elif updatedConditions == \"no\":\n",
    "                    print(decision1)\n",
    "                else:\n",
    "                    print(\"I give up.\")\n",
    "        else:\n",
    "            umbrellaStatus = input(\"I need a yes or no. Do you have an umbrella?\")\n",
    "            if umbrellaStatus == \"yes\":\n",
    "                print(decision1)\n",
    "            elif umbrellaStatus == \"no\":\n",
    "                print(decision1)\n",
    "            else:\n",
    "                print(\"I give up.\")\n",
    "    elif currentConditions == \"no\":\n",
    "        print(decision1)\n",
    "    else:\n",
    "        currentConditions = input(\"I need a yes or no. Is it raining?\")\n",
    "        if currentConditions == \"yes\":\n",
    "            print(decision3)\n",
    "        elif currentConditions == \"no\":\n",
    "            print(decision1)\n",
    "        else:\n",
    "            print(\"I give up.\")\n",
    "                    \n",
    "needUmbrella()"
   ]
  },
  {
   "cell_type": "markdown",
   "metadata": {},
   "source": [
    "There are **4 essential components** to flow control in Python:\n",
    "1. Comparison operators\n",
    "2. Boolean operators\n",
    "3. Conditional statements\n",
    "4. Loops\n",
    "\n",
    "The very simplistic example above makes use of 2 of these: a **comparison operator** (==) and **conditional statements** (if, else, elif).\n",
    "\n",
    "We'll walk through them here with examples of each."
   ]
  },
  {
   "cell_type": "markdown",
   "metadata": {},
   "source": [
    "### Comparison operators\n",
    "Comparison operators tell the computer to evaluate a statement and the result is a Boolean value: `True` or `False`. (Note the capitalized first letters: if you don't capitalize them, Python throws errors at you.)\n",
    "\n",
    "| Operator     | What it means |\n",
    "| :--- | :--- |\n",
    "| ==   | Is equal to|\n",
    "| !=   | Is not equal to|\n",
    "| < | Less than|\n",
    "| > | Greater than|\n",
    "| <= | Less than or equal to |\n",
    "| => | Greater than or equal to |\n",
    "\n",
    "\n",
    "\n",
    "⭐ **Let's see that in action by running the cell below.**"
   ]
  },
  {
   "cell_type": "code",
   "execution_count": null,
   "metadata": {},
   "outputs": [],
   "source": [
    "2 == 2"
   ]
  },
  {
   "cell_type": "code",
   "execution_count": null,
   "metadata": {},
   "outputs": [],
   "source": [
    "2 != 3"
   ]
  },
  {
   "cell_type": "code",
   "execution_count": null,
   "metadata": {},
   "outputs": [],
   "source": [
    "'dog' != 'cat'"
   ]
  },
  {
   "cell_type": "markdown",
   "metadata": {},
   "source": [
    "🤯 *If you're having a \"wait, what?\" reaction here, yes, you can compare strings using == and != operators.* "
   ]
  },
  {
   "cell_type": "code",
   "execution_count": null,
   "metadata": {},
   "outputs": [],
   "source": [
    "2 < 3"
   ]
  },
  {
   "cell_type": "code",
   "execution_count": null,
   "metadata": {},
   "outputs": [],
   "source": [
    "2 <= 3"
   ]
  },
  {
   "cell_type": "markdown",
   "metadata": {},
   "source": [
    "### Boolean operators\n",
    "There are 3 Boolean operators: `and`, `or`, and `not`. Boolean operators can be used to combine and evaluate statements. \n",
    "\n",
    "#### The `and` operator\n",
    "\n",
    "If you combine two statements with the `and` operator, *both statements* must evaluate to `True` for the result to be `True`. In the following example, it's true that 1 is less than 2 AND that 2 is less than 3, so the full statement evaluates to `True`. \n",
    "\n",
    "⭐ **Run the code cells in this section.**\n"
   ]
  },
  {
   "cell_type": "code",
   "execution_count": null,
   "metadata": {},
   "outputs": [],
   "source": [
    "(1 < 2) and (2 < 3)"
   ]
  },
  {
   "cell_type": "markdown",
   "metadata": {},
   "source": [
    "If one part of a statement evaluates to `False`, the entire statement is `False`. Run the code cell below for an example."
   ]
  },
  {
   "cell_type": "code",
   "execution_count": null,
   "metadata": {},
   "outputs": [],
   "source": [
    "(1 > 2) and (2 < 3) and (3 < 4)"
   ]
  },
  {
   "cell_type": "markdown",
   "metadata": {},
   "source": [
    "#### The `or` operator\n",
    "Unlike statements using the `and` operator, the statements using the `or` operator evaluate to `True` if *any of the component statements* evaluate to `True`. The statement below will evaluate to `True` because 1 is less than 3. 3 is not greater than 5, but only one of the two components needs to be true."
   ]
  },
  {
   "cell_type": "code",
   "execution_count": null,
   "metadata": {},
   "outputs": [],
   "source": [
    "(1 < 3) or (3 > 5)"
   ]
  },
  {
   "cell_type": "markdown",
   "metadata": {},
   "source": [
    "#### The `not` operator"
   ]
  },
  {
   "cell_type": "markdown",
   "metadata": {},
   "source": [
    "`Not` is a funny one. The `not` operator simply reverses a Boolean value."
   ]
  },
  {
   "cell_type": "code",
   "execution_count": null,
   "metadata": {},
   "outputs": [],
   "source": [
    "not True"
   ]
  },
  {
   "cell_type": "code",
   "execution_count": null,
   "metadata": {},
   "outputs": [],
   "source": [
    "not (1>3)"
   ]
  },
  {
   "cell_type": "markdown",
   "metadata": {},
   "source": [
    "### Conditional statements\n",
    "Conditional statements allow you to write a program that responds to particular conditions or inputs. There are three conditional keywords: `if`, `else`, and `elif`\n",
    "\n",
    "#### `if` statements\n",
    "`if` statements are the most common way of controlling flow in a program. When you write an `if` statement, you're giving the computer a set of instructions to follow if a particular condition is true. In the example at the beginning of this notebook, we began our flow control with a question: \"Is it raining?\" \n",
    "\n",
    "The response entered determined how the program responded. `if` statements allow your program to respond to one condition at a time, but they can be combined with `else` and `elif` statements to program more complex flow control.\n",
    "\n",
    "#### `else` statements\n",
    "`else` statements can be used in combination with `if` statements to provide an alternative set of instructions. \n",
    "\n",
    "#### `elif` statements\n",
    "`elif` statements can be used in combination with `if` and `elif` statements to account for additional conditions.\n",
    "\n",
    "⭐ **Let's look again at our weather example. Run the cell below and watch how the `if`, `else`, and `elif` statements work together to control flow in the program.**"
   ]
  },
  {
   "cell_type": "code",
   "execution_count": null,
   "metadata": {},
   "outputs": [],
   "source": [
    "def needUmbrella():\n",
    "    currentConditions = input(\"Is it raining? Respond with a lowercase yes or no.\")\n",
    "    decision1 = \"Go outside!\"\n",
    "    decision2 = \"Wait a while...\"\n",
    "    decision3 = \"Give up. Find the couch.\"\n",
    "    if currentConditions == \"yes\":\n",
    "        umbrellaStatus = input(\"Do you have an umbrella?\")\n",
    "        if umbrellaStatus == \"yes\":\n",
    "            print(decision1)\n",
    "        elif umbrellaStatus == \"no\":         \n",
    "            print(decision2)\n",
    "            sleep(2)\n",
    "            updatedConditions = input(\"Is it still raining? Respond with a lowercase yes or no.\")\n",
    "            if updatedConditions == \"yes\":\n",
    "                print(decision3)\n",
    "            elif updatedConditions == \"no\":\n",
    "                print(decision1)\n",
    "            else:\n",
    "                updatedConditions = input(\"I need a yes or no. Is it raining?\")\n",
    "                if updatedConditions == \"yes\":\n",
    "                    print(decision3)\n",
    "                elif updatedConditions == \"no\":\n",
    "                    print(decision1)\n",
    "                else:\n",
    "                    print(\"I give up.\")\n",
    "        else:\n",
    "            umbrellaStatus = input(\"I need a yes or no. Do you have an umbrella?\")\n",
    "            if umbrellaStatus == \"yes\":\n",
    "                print(decision1)\n",
    "            elif umbrellaStatus == \"no\":\n",
    "                print(decision1)\n",
    "            else:\n",
    "                print(\"I give up.\")\n",
    "    elif currentConditions == \"no\":\n",
    "        print(decision1)\n",
    "    else:\n",
    "        currentConditions = input(\"I need a yes or no. Is it raining?\")\n",
    "        if currentConditions == \"yes\":\n",
    "            print(decision3)\n",
    "        elif currentConditions == \"no\":\n",
    "            print(decision1)\n",
    "        else:\n",
    "            print(\"I give up.\")\n",
    "                    \n",
    "needUmbrella()"
   ]
  },
  {
   "cell_type": "markdown",
   "metadata": {},
   "source": [
    "In our example, you'll notice that the program does not test all the conditions listed in our `if`, `else`, and `elif` statements: it stops after the first statement that resolves to `True`. This is important because it affects the way you design the logic of your program. If you need to evaluate multiple conditions, you'll need to nest your statements accordingly or combine them with operators. "
   ]
  },
  {
   "cell_type": "markdown",
   "metadata": {},
   "source": [
    "✨ **Challenge (for fun):** Can you figure out a series of responses that will cause the program to print \"I give up\" to the screen? Hint: There's more than one way to exasperate this little program. Add a markdown cell below including your series of answers."
   ]
  },
  {
   "cell_type": "markdown",
   "metadata": {},
   "source": [
    "### Loops!\n",
    "Loops in programming allow you to set up a block of code that will run more than one without having to hardcode instructions for each time you want it to run. There are 2 kinds of loops that will be useful to you: `for` loops and `while` loops.\n",
    "\n",
    "#### `while` loops\n",
    "`while` loops tell the computer to run a particular section of code over and over again *while* a condition that you've set remains `True`. \n",
    "\n",
    "⭐ **Run the code cell below to see how this works.**"
   ]
  },
  {
   "cell_type": "code",
   "execution_count": null,
   "metadata": {},
   "outputs": [],
   "source": [
    "i = 1\n",
    "while i < 5:\n",
    "    print(i)\n",
    "    i += 1"
   ]
  },
  {
   "cell_type": "markdown",
   "metadata": {},
   "source": [
    "⭐ **For a silly example, run the code below. (When you're tired of the nonsense, type \"Sally\").**"
   ]
  },
  {
   "cell_type": "code",
   "execution_count": null,
   "metadata": {},
   "outputs": [],
   "source": [
    "yourName = input(\"What's your name?\")\n",
    "while yourName != \"Sally\":\n",
    "    yourName = input(\"What's your name?\")\n",
    "print(\"Oh! Hi, Sally! I've been looking for you, but this other person won't leave me alone!\")"
   ]
  },
  {
   "cell_type": "markdown",
   "metadata": {},
   "source": [
    "⚠️ **A note of caution: If you set up a condition that cannot be met or one that will always evaluate to true `True`, you'll create an infinite loop!**\n",
    "\n",
    "As bad as that may sound, it's not that big of a deal. You just need to interrupt the loop to free your computer's memory back up. \n",
    "\n",
    "\n",
    "⭐ **Run the cell below, then click the stop button above to interrupt the kernel and stop the madness.**"
   ]
  },
  {
   "cell_type": "code",
   "execution_count": null,
   "metadata": {},
   "outputs": [],
   "source": [
    "i = 1\n",
    "\n",
    "while i >= 1:\n",
    "    print('Hi!')"
   ]
  },
  {
   "cell_type": "markdown",
   "metadata": {},
   "source": [
    "#### `for` loops\n",
    "`for` loops allow you to set a specific number of times a block of code should be run. A `for` loop can be combined with Python `range()` function to specify a starting value, an ending value, and an increment. In the example below, 1 is the starting value and 5 is the ending value. Note: The program will stop before the ending value.\n",
    "\n",
    "⭐ **Run the cell below to see how this works.**"
   ]
  },
  {
   "cell_type": "code",
   "execution_count": null,
   "metadata": {},
   "outputs": [],
   "source": [
    "i = 1\n",
    "\n",
    "for i in range (1,5):\n",
    "    if i == 1:\n",
    "        print ('This code has run ' + str(i) + ' time.')\n",
    "    else:\n",
    "        print('This code has run ' + str(i) + ' times.')"
   ]
  },
  {
   "cell_type": "markdown",
   "metadata": {},
   "source": [
    "A `for` loop can be used to \"loop\" or \"iterate\" over a list, a string, or other iterable data type. \n",
    "\n",
    "⭐ **Run the cells below to see it in action.**"
   ]
  },
  {
   "cell_type": "code",
   "execution_count": null,
   "metadata": {},
   "outputs": [],
   "source": [
    "animals = ['hyrax','auroch','axolotl','quagga','wombat','kraken']\n",
    "for animal in animals:\n",
    "    print(animal)"
   ]
  },
  {
   "cell_type": "code",
   "execution_count": null,
   "metadata": {},
   "outputs": [],
   "source": [
    "animal = 'hyrax'\n",
    "for letter in animal:\n",
    "    print(letter)"
   ]
  },
  {
   "cell_type": "markdown",
   "metadata": {},
   "source": [
    "##### List indexes (indices, whatever)\n",
    "Curious how to loop over just a portion of the list? Here are a couple options, using *list indexes*. The *index* of an item in a list is a number that represents its position in the list. Note: the numbering begins with 0. Taking our list from the previous example, note that hyrax, the first animal in the list, has an index of 0."
   ]
  },
  {
   "cell_type": "code",
   "execution_count": null,
   "metadata": {},
   "outputs": [],
   "source": [
    "animals = ['hyrax','auroch','axolotl','quagga','wombat','kraken']\n",
    "for animal in animals:\n",
    "    print(animals.index(animal), \" \" ,animal)"
   ]
  },
  {
   "cell_type": "markdown",
   "metadata": {},
   "source": [
    "🗝️ **Takeaway:**\n",
    "As with many aspects of programming, there's often more than one way to write loops to accomplish the same thing. Here are 3 ways to accomplish essentially the same thing.\n",
    "\n",
    "⭐ **Run the cell below to see 3 different ways to print the first 4 animal names from the list.**"
   ]
  },
  {
   "cell_type": "code",
   "execution_count": null,
   "metadata": {
    "scrolled": true
   },
   "outputs": [],
   "source": [
    "for animal in animals[0:4]:\n",
    "    print(animal)"
   ]
  },
  {
   "cell_type": "markdown",
   "metadata": {},
   "source": [
    "The cell above works because we told it to print all list items in a range 0-4. Ranges in Python are inclusive of the first, but not the last value. (That explains why we didn't get a wombat!)\n",
    "\n",
    "The next two cells use a special variable called an **iterator**. In the first one, we set i equal to 0, then for every cycle through the loop, we add 1 to it. The loop will continue until i is no longer less than 4 (still, no wombat.) In the third cell, we use a range, this time specifying a range for the value of i. While i is in that range (again, not inclusive), the loop will continue."
   ]
  },
  {
   "cell_type": "code",
   "execution_count": null,
   "metadata": {},
   "outputs": [],
   "source": [
    "i = 0\n",
    "while i < 4:\n",
    "    print(animals[i])\n",
    "    i += 1"
   ]
  },
  {
   "cell_type": "code",
   "execution_count": null,
   "metadata": {},
   "outputs": [],
   "source": [
    "i = 0\n",
    "while i in range (0,4):\n",
    "    print(animals[i])\n",
    "    i += 1"
   ]
  },
  {
   "cell_type": "markdown",
   "metadata": {},
   "source": [
    "✨ **Challenge (for fun):** Write a loop that includes the wombat in the output!"
   ]
  },
  {
   "cell_type": "code",
   "execution_count": null,
   "metadata": {},
   "outputs": [],
   "source": [
    "# Replace this cell with your own exploration."
   ]
  },
  {
   "cell_type": "markdown",
   "metadata": {},
   "source": [
    "## Part 3: Installing and importing libraries\n",
    "To this point, we've used functions that come pre-installed with Python, but there's so much more code out there! In fact, you explored Python libraries on GitHub as part of your homework! In this section, we'll practice installing libraries and importing the functions for use in your program.\n",
    "\n",
    "### Installing...libraries? \n",
    "📚 not this kind. Libraries in Python are essentially bunches of code. (Modules is the more technical term). So, libraries contain modules of code, which contain functions and other things that are useful to you. To use libraries developed by other people, you'll need to install them. \n",
    "\n",
    "#### Installing with Pip\n",
    "Pip comes pre-installed for Windows and Mac users. (Linux folks, your mileage may vary). \n",
    "\n",
    "The following code cell will install `requests`, a library you might use to gather data from the web later in the semester.\n",
    "\n",
    "⭐**Run the cell now to practice installing a library.**\n",
    "*Note: if you're working on a lab computer, `requests` may already be installed. If that's the case, you'll get a message telling you the requirement is already satisfied. That's normal--just carry on to the next cell."
   ]
  },
  {
   "cell_type": "code",
   "execution_count": null,
   "metadata": {},
   "outputs": [],
   "source": [
    "pip install requests"
   ]
  },
  {
   "cell_type": "markdown",
   "metadata": {},
   "source": [
    "Now, you've installed the `requests`, but we need to `import` it to make it available for use in your program. You will need to import any libraries or specific modules you'd like to use in each notebook you write. If you want the whole library, you can simply type \"import\" followed by the name of the library. \n",
    "\n",
    "⭐**Run the cell below to import `requests`.**"
   ]
  },
  {
   "cell_type": "code",
   "execution_count": null,
   "metadata": {},
   "outputs": [],
   "source": [
    "import requests"
   ]
  },
  {
   "cell_type": "markdown",
   "metadata": {},
   "source": [
    "You can also import specific modules from a larger library. For example, the `time` library comes pre-installed and contains lots of modules, but we may just want to use the sleep() function in our code. It comes installed, but unlike the more basic functions in Python, we still need to import it to use it. \n",
    "\n",
    "⭐**We can import just the sleep module by running the following code.**"
   ]
  },
  {
   "cell_type": "code",
   "execution_count": null,
   "metadata": {},
   "outputs": [],
   "source": [
    "from time import sleep"
   ]
  },
  {
   "cell_type": "markdown",
   "metadata": {},
   "source": [
    "## Part 4: Reflection\n",
    "\n",
    "### If you have time, reflect on what you've learned about Python so far. \n",
    "\n",
    "Is it similar to anything you were already familiar with? What do you think you might be able to do for your analytics project using this tool? Or, what do you want to know more about? Add a Markdown cell below and share your thoughts."
   ]
  },
  {
   "cell_type": "code",
   "execution_count": null,
   "metadata": {},
   "outputs": [],
   "source": []
  }
 ],
 "metadata": {
  "kernelspec": {
   "display_name": "Python 3",
   "language": "python",
   "name": "python3"
  },
  "language_info": {
   "codemirror_mode": {
    "name": "ipython",
    "version": 3
   },
   "file_extension": ".py",
   "mimetype": "text/x-python",
   "name": "python",
   "nbconvert_exporter": "python",
   "pygments_lexer": "ipython3",
   "version": "3.7.3"
  }
 },
 "nbformat": 4,
 "nbformat_minor": 2
}
